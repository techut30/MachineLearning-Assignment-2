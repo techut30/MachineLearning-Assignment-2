{
  "nbformat": 4,
  "nbformat_minor": 0,
  "metadata": {
    "colab": {
      "provenance": [],
      "authorship_tag": "ABX9TyOlaX+u56TvQ0sDfwEaM6FU",
      "include_colab_link": true
    },
    "kernelspec": {
      "name": "python3",
      "display_name": "Python 3"
    },
    "language_info": {
      "name": "python"
    }
  },
  "cells": [
    {
      "cell_type": "markdown",
      "metadata": {
        "id": "view-in-github",
        "colab_type": "text"
      },
      "source": [
        "<a href=\"https://colab.research.google.com/github/techut30/MachineLearning-Assignment-2/blob/main/ML_assignment_2_5.ipynb\" target=\"_parent\"><img src=\"https://colab.research.google.com/assets/colab-badge.svg\" alt=\"Open In Colab\"/></a>"
      ]
    },
    {
      "cell_type": "code",
      "execution_count": 7,
      "metadata": {
        "colab": {
          "base_uri": "https://localhost:8080/"
        },
        "id": "0mEZaVnAOFlQ",
        "outputId": "b53f8cbd-c2b5-4ac4-aa51-5b8401af1d04"
      },
      "outputs": [
        {
          "output_type": "stream",
          "name": "stdout",
          "text": [
            "Confusion Matrix:\n",
            "[[44.  5.]\n",
            " [ 7. 43.]]\n",
            "Accuracy: 0.8787878787878788\n",
            "Precision: 0.8958333333333334\n",
            "Recall: 0.86\n",
            "F1-score: 0.8775510204081632\n"
          ]
        }
      ],
      "source": [
        "import numpy as np\n",
        "import pandas as pd\n",
        "\n",
        "# Load datasets\n",
        "X = pd.read_csv('logisticX.csv').values\n",
        "y = pd.read_csv('logisticY.csv').values.flatten()\n",
        "\n",
        "# Define sigmoid function\n",
        "def sigmoid(z):\n",
        "    return 1 / (1 + np.exp(-z))\n",
        "\n",
        "# Define cost function\n",
        "def cost_function(X, y, theta):\n",
        "    m = len(y)\n",
        "    h = sigmoid(X.dot(theta))\n",
        "    epsilon = 1e-10\n",
        "    cost = (-1 / m) * np.sum(y * np.log(h + epsilon) + (1 - y) * np.log(1 - h + epsilon))\n",
        "    return cost\n",
        "\n",
        "# Define gradient descent function\n",
        "def gradient_descent(X, y, theta, alpha, num_iterations):\n",
        "    m = len(y)\n",
        "    for _ in range(num_iterations):\n",
        "        h = sigmoid(X.dot(theta))\n",
        "        gradient = (1 / m) * X.T.dot(h - y)\n",
        "        theta -= alpha * gradient.reshape(-1, 1)  # Reshape gradient to match theta's shape\n",
        "    return theta\n",
        "\n",
        "# Initialize parameters\n",
        "theta = np.zeros((X.shape[1] + 1, 1))  # Additional parameter for intercept\n",
        "X = np.hstack((np.ones((X.shape[0], 1)), X))  # Add intercept term to X\n",
        "\n",
        "# Train logistic regression model\n",
        "alpha = 0.1\n",
        "num_iterations = 1000\n",
        "theta = gradient_descent(X, y.reshape(-1, 1), theta, alpha, num_iterations)  # Reshape y to match theta's shape\n",
        "\n",
        "# Define a function to predict labels based on trained parameters\n",
        "def predict_labels(X, theta):\n",
        "    probabilities = sigmoid(X.dot(theta))\n",
        "    predicted_labels = (probabilities >= 0.5).astype(int)\n",
        "    return predicted_labels\n",
        "\n",
        "# Predict labels using the trained parameters\n",
        "y_pred = predict_labels(X, theta)\n",
        "\n",
        "# Calculate confusion matrix\n",
        "conf_matrix = np.zeros((2, 2))\n",
        "for i in range(len(y)):\n",
        "    conf_matrix[y[i], y_pred[i]] += 1\n",
        "\n",
        "# Calculate accuracy\n",
        "accuracy = np.sum(np.diag(conf_matrix)) / np.sum(conf_matrix)\n",
        "\n",
        "# Calculate precision\n",
        "precision = conf_matrix[1, 1] / np.sum(conf_matrix[:, 1])\n",
        "\n",
        "# Calculate recall\n",
        "recall = conf_matrix[1, 1] / np.sum(conf_matrix[1, :])\n",
        "\n",
        "# Calculate F1-score\n",
        "f1 = 2 * (precision * recall) / (precision + recall)\n",
        "\n",
        "# Display results\n",
        "print(\"Confusion Matrix:\")\n",
        "print(conf_matrix)\n",
        "print(\"Accuracy:\", accuracy)\n",
        "print(\"Precision:\", precision)\n",
        "print(\"Recall:\", recall)\n",
        "print(\"F1-score:\", f1)\n",
        "\n"
      ]
    }
  ]
}