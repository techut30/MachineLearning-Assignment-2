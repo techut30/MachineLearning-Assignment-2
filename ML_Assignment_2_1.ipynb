{
  "nbformat": 4,
  "nbformat_minor": 0,
  "metadata": {
    "colab": {
      "provenance": [],
      "authorship_tag": "ABX9TyOr0zo1bm3JdEZWTU34z3iQ",
      "include_colab_link": true
    },
    "kernelspec": {
      "name": "python3",
      "display_name": "Python 3"
    },
    "language_info": {
      "name": "python"
    }
  },
  "cells": [
    {
      "cell_type": "markdown",
      "metadata": {
        "id": "view-in-github",
        "colab_type": "text"
      },
      "source": [
        "<a href=\"https://colab.research.google.com/github/techut30/MachineLearning-Assignment-2/blob/main/ML_Assignment_2_1.ipynb\" target=\"_parent\"><img src=\"https://colab.research.google.com/assets/colab-badge.svg\" alt=\"Open In Colab\"/></a>"
      ]
    },
    {
      "cell_type": "code",
      "execution_count": 4,
      "metadata": {
        "colab": {
          "base_uri": "https://localhost:8080/"
        },
        "id": "6zXVArdu63F0",
        "outputId": "5399518c-85c1-4d4c-db47-38a99e4f60b3"
      },
      "outputs": [
        {
          "output_type": "stream",
          "name": "stdout",
          "text": [
            "Cost Function Value: 0.22534601017558667\n",
            "Learned Parameters:\n",
            "[[ 0.43868749]\n",
            " [ 1.94380532]\n",
            " [-1.98108303]]\n"
          ]
        }
      ],
      "source": [
        "import numpy as np\n",
        "import pandas as pd\n",
        "X = pd.read_csv('logisticX.csv')\n",
        "y = pd.read_csv('logisticY.csv')\n",
        "def sigmoid(z):\n",
        "    return 1 / (1 + np.exp(-z))\n",
        "theta = np.zeros((X.shape[1] + 1, 1))\n",
        "X = np.hstack((np.ones((X.shape[0], 1)), X))\n",
        "y = y.to_numpy().reshape(-1, 1)\n",
        "def cost_function(X, y, theta):\n",
        "    m = len(y)\n",
        "    h = sigmoid(X.dot(theta))\n",
        "    cost = (-1 / m) * np.sum(y * np.log(h) + (1 - y) * np.log(1 - h))\n",
        "    return cost\n",
        "def gradient_descent(X, y, theta, alpha, num_iterations):\n",
        "    m = len(y)\n",
        "    for _ in range(num_iterations):\n",
        "        h = sigmoid(X.dot(theta))\n",
        "        gradient = (1 / m) * X.T.dot(h - y)\n",
        "        theta -= alpha * gradient\n",
        "    return theta\n",
        "alpha = 0.1\n",
        "num_iterations = 10000\n",
        "theta = gradient_descent(X, y, theta, alpha, num_iterations)\n",
        "\n",
        "cost = cost_function(X, y, theta)\n",
        "print(\"Cost Function Value:\", cost)\n",
        "\n",
        "print(\"Learned Parameters:\")\n",
        "print(theta)\n"
      ]
    }
  ]
}